{
 "cells": [
  {
   "cell_type": "markdown",
   "metadata": {},
   "source": [
    "# 1. Neural Language Model\n",
    "If you are here that means you wish to cut the crap and understand how to train your own Neural Language Model. If you are a regular user of frameworks like Keras, Tflearn, etc., then you know how easy it has become these days to build, train and deploy Neural Network Models. If not then you will probably by the end of this post.\n",
    "\n",
    "# 2. Prerequisite\n",
    "1. [Python](https://www.tutorialspoint.com/python/): I will be using Python 3.5 for this tutorial\n",
    "\n",
    "2. [LSTM](http://colah.github.io/posts/2015-08-Understanding-LSTMs/): If you dont know what LSTMs are, then this is a must read.\n",
    "\n",
    "3. [Basics of Machine Learning](https://www.youtube.com/watch?v=2uiulzZxmGg): If you want to dive into Machine Learning/Deep Learning, then I strongly recommend the first 4 lectures from [Stanford's CS231]() by Andrej Karpathy.\n",
    "\n",
    "4. [Language Model](https://en.wikipedia.org/wiki/Language_model): If you want to have a basic understanding of Language Models.\n",
    "\n",
    "# 3. Frameworks\n",
    "1. [Tflearn](http://tflearn.org/installation/) 0.3.2\n",
    "2. [Spacy](https://spacy.io/) 1.9.0\n",
    "3. [Tensorflow](https://spacy.io/) 1.0.1\n",
    "\n",
    "### Note\n",
    "you can take this post as a hands-on exercise on \"How to build your own Neural Language Model\" from scratch. If you have a ready to use virtualenv with all the dependencies installed then you can skip Section 4 and jump to Section 5. "
   ]
  },
  {
   "cell_type": "markdown",
   "metadata": {},
   "source": [
    "# 4. Install Dependencies\n",
    "We will install everythin in a virtual environment and I would suggest you to run this Jupyter Notebook in the same virtualenv. I have also provided a ```requirements.txt``` file with the [repository](https://github.com/dashayushman/neural-language-model) to make things easier.\n",
    "\n",
    "### 4.1 Virtual Environment\n",
    "You can follow [this](http://docs.python-guide.org/en/latest/dev/virtualenvs/) for a fast guide to Virtual Environments.\n",
    "\n",
    "```sh\n",
    "pip install virtualenv\n",
    "```\n",
    "\n",
    "### 4.2 Tflearn\n",
    "Follow [this](http://tflearn.org/installation/) and install Tflearn. Make sure to have the versions correct in case you want to avoid weird errors. \n",
    "\n",
    "```sh\n",
    "pip install -Iv tflearn==0.3.2\n",
    "```\n",
    "\n",
    "### 4.3 Tensorflow\n",
    "Install Tensorflow by following the instructions [here](https://www.tensorflow.org/install/). To make sure of installing the right version, use this\n",
    "\n",
    "```sh\n",
    "pip install -Iv tensorflow-gpu==1.0.1\n",
    "```\n",
    "Note that this is the GPU version of Tensorflow. You can even install the CPU version for this tutorial, but I would strongly recommend the GPU version if you intend to intend to scale it to use in the real world.\n",
    "\n",
    "### 4.4 Spacy\n",
    "Install Spacy by following the instructions [here](https://spacy.io/docs/usage/). For the right version use,\n",
    "\n",
    "```sh\n",
    "pip install -Iv spacy==1.9.0\n",
    "```\n",
    "\n",
    "### 4.5 Others\n",
    "```sh\n",
    "pip install numpy\n",
    "```"
   ]
  },
  {
   "cell_type": "markdown",
   "metadata": {},
   "source": [
    "# 5. Get the Repo\n",
    "clone the Neural Language Model GitHub repository onto your computer and start the Jupyter Notebook server.\n",
    "\n",
    "```sh\n",
    "git clone https://github.com/dashayushman/neural-language-model.git\n",
    "cd neural-language-model\n",
    "jupyter notebook\n",
    "```\n",
    "\n",
    "Open the notebook names **Neural Language Model** and you can start off."
   ]
  },
  {
   "cell_type": "markdown",
   "metadata": {},
   "source": [
    "# 6. Neural Language Model\n",
    "We will start building our own Language model using an LSTM Network. To do so we will need a corpus. For the purpose of this tutorial, let us use a toy corpus, which is a text file called ```corpus.txt``` that 0I downloaded from Wikipedia. I will use this to demponstrate how to build your own Neural Language Model, and you can use the same knowledge to extend the model further for a more realistic scenario (I will give pointers to do so too).\n",
    "\n",
    "## 6.1 Loading The Corpus\n",
    "In this section you will load the ```corpus.txt``` and do minimal preprocessing."
   ]
  },
  {
   "cell_type": "code",
   "execution_count": 1,
   "metadata": {
    "scrolled": true
   },
   "outputs": [
    {
     "name": "stdout",
     "output_type": "stream",
     "text": [
      "Deep learning is part of a broader family of machine learning methods based on learning data representations, as opposed to task-specific algorithms. Learning can be supervised, partially supervised or unsupervised.\n",
      "Some representations are loosely based on interpretation of information processing and communication patterns in a biological nervous system, such as neural coding that attempts to define a relationship between various stimuli and associated neuronal responses in the brain. Research attempts to create efficient systems to learn these representations from large-scale, unlabeled data sets.\n",
      "Deep learning architectures such as deep neural networks, deep belief networks and recurrent neural networks have been applied to fields including computer vision, speech recognition, natural language processing, audio recognition, social network filtering, machine translation and bioinformatics where they produced results comparable to and in some cases superior to human experts.\n",
      "Deep learning is a class of machine learning algorithms that:\n",
      "use a cascade of many layers of nonlinear processing units for feature extraction and transformation. Each successive layer uses the output from the previous layer as input. The algorithms may be supervised or unsupervised and applications include pattern analysis and classification .\n"
     ]
    }
   ],
   "source": [
    "import re\n",
    "\n",
    "with open('corpus.txt', 'r') as cf:\n",
    "    corpus = []\n",
    "    for line in cf: # loops over all the lines in the corpus\n",
    "        line = line.strip() # strips off \\n \\r from the ends \n",
    "        if line: # Take only non empty lines\n",
    "            line = re.sub(r'\\([^)]*\\)', '', line) # Regular Expression to remove text in between brackets\n",
    "            line = re.sub(' +',' ', line) # Removes consecutive spaces\n",
    "            # add more pre-processing steps\n",
    "            corpus.append(line)\n",
    "print(\"\\n\".join(corpus[:5])) # Shows the first 5 lines of the corpus"
   ]
  },
  {
   "cell_type": "markdown",
   "metadata": {},
   "source": [
    "As you can see that this small piece of code loads the toy text corpus, extracts lines from it, ignores empty lines, and removes text in between brackets. Note that in reality you will not be able to load the entire corpus into memory. You will need to write a [generator](https://wiki.python.org/moin/Generators) to yield text lines from the corpus, or use some advanced features provided by the Deep Learning frameworks like [Tensorflow's Input Pipelines](https://www.tensorflow.org/programmers_guide/reading_data). \n",
    "\n",
    "## 6.2 Tokenizing the Corpus\n",
    "In this section we will see how to tokenize the text lines that we extracted and then create a **Vocabulary**."
   ]
  },
  {
   "cell_type": "code",
   "execution_count": 2,
   "metadata": {
    "collapsed": true
   },
   "outputs": [],
   "source": [
    "# Load Spacy\n",
    "import spacy\n",
    "import numpy as np\n",
    "nlp = spacy.load('en_core_web_sm')"
   ]
  },
  {
   "cell_type": "code",
   "execution_count": 3,
   "metadata": {},
   "outputs": [
    {
     "name": "stdout",
     "output_type": "stream",
     "text": [
      "['SEQUENCE_BEGIN', 'deep', 'learning', 'is', 'part', 'of', 'a', 'broader', 'family', 'of', 'machine', 'learning', 'methods', 'based', 'on', 'learning', 'data', 'representations', ',', 'as', 'opposed', 'to', 'task', '-', 'specific', 'algorithms', '.', 'SEQUENCE_END', 'SEQUENCE_BEGIN', 'learning']\n",
      "Mean Sentence Length: 31.991413024995747\n",
      "Sentence Length Standard Deviation: 15.024047302248745\n",
      "Max Sentence Length: 179\n"
     ]
    }
   ],
   "source": [
    "def preprocess_corpus(corpus):\n",
    "    corpus_tokens = []\n",
    "    sentence_lengths = []\n",
    "    for line in corpus:\n",
    "        doc = nlp(line) # Parse each line in the corpus\n",
    "        for sent in doc.sents: # Loop over all the sentences in the line\n",
    "            corpus_tokens.append('SEQUENCE_BEGIN')\n",
    "            s_len = 1\n",
    "            for tok in sent: # Loop over all the words in a sentence\n",
    "                if tok.text.strip() != '' and tok.ent_type_ != '': # If the token is a Named Entity then do not lowercase it \n",
    "                    corpus_tokens.append(tok.text)\n",
    "                else:\n",
    "                    corpus_tokens.append(tok.text.lower())\n",
    "                s_len += 1\n",
    "            corpus_tokens.append('SEQUENCE_END')\n",
    "            sentence_lengths.append(s_len+1)\n",
    "    return corpus_tokens, sentence_lengths\n",
    "\n",
    "corpus_tokens, sentence_lengths = preprocess_corpus(corpus)\n",
    "print(corpus_tokens[:30]) # Prints the first 30 tokens\n",
    "mean_sentence_length = np.mean(sentence_lengths)\n",
    "deviation_sentence_length = np.std(sentence_lengths)\n",
    "max_sentence_length = np.max(sentence_lengths)\n",
    "print('Mean Sentence Length: {}\\nSentence Length Standard Deviation: {}\\n'\n",
    "      'Max Sentence Length: {}'.format(mean_sentence_length, deviation_sentence_length, max_sentence_length))"
   ]
  },
  {
   "cell_type": "markdown",
   "metadata": {
    "collapsed": true
   },
   "source": [
    "Notice that we did not lowercase the [Named Entities(NEs)](https://en.wikipedia.org/wiki/Named-entity_recognition). This is totally your choice. It part of a normalization step and I believe it is a good idea to let the model learn the Named Entities in the corpus. But do not blindly consider any library for NEs. I chose Spacy as it is very simple to use, fast and efficient. Note that I am using the [**en_core_web_sm**](https://spacy.io/docs/usage/models) model of Spacy, which is very small and good enough for this tutorial. You would probably want to choose your own NE recognizer.\n",
    "\n",
    "Other Normalization steps include [stemming and lemmatization](https://nlp.stanford.edu/IR-book/html/htmledition/stemming-and-lemmatization-1.html) which I will not implement because **(1)** I want my Language Model to learn the various forms of a word and their occurances by itself; **(2)** In a real world scenario you will train your Model with a huge corpus with Millions of text lines, and you can assume that the corpus covers the most commonly used terms in Language. Hence, no extra normalization is required. \n",
    "\n",
    "### 6.2.1 SEQUENCE_BEGIN and SEQUENCE_END\n",
    "Along with the naturally occurring terms in the corpus, we will add two new terms called the *SEQUENCE_BEGIN* and **SEQUENCE_END** term. These terms mark the beginning and end of a sentence. We do this because we want our model to learn word occurring at the beginning and at the end of sentences. Note that we are dependent on Spacy's Tokenization algorithm here. You are free to explore other tokenizers and use whichever you find is best.\n",
    "\n",
    "## 6.3 Create a Vocabulary\n",
    "After we have minimally preprocessed the corpus and extracted sequence of terms from it, we will create a vocabulary for our Language Model. This means that we will create two python dictionaries,\n",
    "1. **Word2Idx** : This dictionary has all the unique words(terms) as keys with a corresponding unique ID as values\n",
    "2. **Idx2Word** : This is the reverse of Word2Idx. It has the unique IDs as keys and their corresponding words(terms) as values"
   ]
  },
  {
   "cell_type": "code",
   "execution_count": 4,
   "metadata": {
    "collapsed": true
   },
   "outputs": [],
   "source": [
    "vocab = list(set(corpus_tokens)) # This works well for a very small corpus\n",
    "#print(vocab)"
   ]
  },
  {
   "cell_type": "markdown",
   "metadata": {},
   "source": [
    "**Alternatively**, if your corpus is huge, you would probably want to iterate through it entirely and generate term frequencies. Once you have the term frequencies, it is better to select the most commonly occuring terms in the vocabulary (as it covers most of the Natural Language)."
   ]
  },
  {
   "cell_type": "code",
   "execution_count": 5,
   "metadata": {},
   "outputs": [
    {
     "name": "stdout",
     "output_type": "stream",
     "text": [
      "Vocab Size: 10000\n",
      "[('the', 20158), (',', 17897), ('of', 13340), ('SEQUENCE_BEGIN', 11762), ('SEQUENCE_END', 11762), ('.', 10932), ('and', 9357), ('in', 7566), ('to', 6953), ('a', 6901), ('development', 3632), ('-', 3582), ('that', 3569), ('is', 3077), ('history', 3077), ('for', 2951), ('\"', 2410), ('on', 2057), ('as', 2036), ('with', 2034), (\"'s\", 1801), ('by', 1641), ('[', 1633), (']', 1626), ('it', 1561), ('was', 1525), ('an', 1316), ('this', 1316), ('named', 1301), ('from', 1269), ('at', 1203), ('are', 1203), ('be', 1189), ('has', 1149), ('have', 1116), ('or', 1055), ('not', 881), ('its', 855), ('which', 829), (':', 821), ('but', 820), ('influence', 819), ('his', 809), (';', 804), ('been', 769), ('their', 735), ('were', 708), ('he', 660), ('we', 637), ('who', 620), ('one', 606), ('--', 594), ('after', 562), ('these', 550), ('had', 544), ('more', 536), ('other', 525), ('’s', 507), ('most', 502), ('also', 493), ('will', 490), ('all', 487), ('during', 482), ('can', 480), ('about', 476), ('they', 473), (\"'\", 453), ('i', 432), ('when', 421), ('new', 417), ('such', 410), ('there', 405), ('than', 403), ('ordered', 396), ('into', 390), ('may', 389), ('our', 366), ('first', 362), ('you', 361), ('time', 360), ('would', 348), ('no', 343), ('so', 337), ('only', 327), ('two', 317), ('“', 313), ('early', 311), ('because', 306), ('many', 303), ('some', 302), ('cells', 301), ('if', 299), ('”', 297), ('American', 296), ('years', 293), ('name', 293), ('up', 278), ('over', 278), ('out', 274), ('launched', 273)]\n"
     ]
    }
   ],
   "source": [
    "import collections\n",
    "\n",
    "word_counter = collections.Counter()\n",
    "for term in corpus_tokens:\n",
    "    word_counter.update({term: 1})\n",
    "vocab = word_counter.most_common(10000) # 10000 Most common terms\n",
    "print('Vocab Size: {}'.format(len(vocab))) \n",
    "print(word_counter.most_common(100)) # just to show the top 100 terms"
   ]
  },
  {
   "cell_type": "markdown",
   "metadata": {},
   "source": [
    "This was we make sure to consider the ***top K***(in this case 100) most commonly used terms in the Language (assuming that the corpus represents the Language or domain specific language. For e.g., medical corpora, e-commerce corpora, etc.). In Neural Machine Translation Models, usually a vocabulary size of 10,000 to 100,000 is used. But remember, it all depends on your task, corpus size, and the Language itself. "
   ]
  },
  {
   "cell_type": "markdown",
   "metadata": {},
   "source": [
    "### 6.3.1 UNKNOWN and PAD\n",
    "Along with the vocabulary terms that we generated, we need two more special terms:\n",
    "1. **UNKNOWN**: This term is used for all the words that the model will observe apart from the vocabulary terms.\n",
    "2. **PAD**: The pad term is used to pad the sequences to a maximum length. This is required for feeding variable length sequences into the Network (we use DynamicRnn to handle variable length sequences. So, padding makes no difference. It is just required for feeding the data to Tensorflow)\n",
    "\n",
    "This is required as during inference time there will be many unknown words (words that the model has never seen). It is better to add an **UNKNOWN** token in the vocabulary so that the model will learn to handle terms that are unknown to the Model."
   ]
  },
  {
   "cell_type": "code",
   "execution_count": 6,
   "metadata": {},
   "outputs": [
    {
     "name": "stdout",
     "output_type": "stream",
     "text": [
      "Word2Idx Size: 10002\n",
      "Idx2Word Size: 10002\n"
     ]
    }
   ],
   "source": [
    "vocab.append(('UNKNOWN', 1))\n",
    "Idx = range(1, len(vocab)+1)\n",
    "vocab = [t[0] for t in vocab]\n",
    "\n",
    "Word2Idx = dict(zip(vocab, Idx))\n",
    "Idx2Word = dict(zip(Idx, vocab))\n",
    "\n",
    "Word2Idx['PAD'] = 0\n",
    "Idx2Word[0] = 'PAD'\n",
    "VOCAB_SIZE = len(Word2Idx)\n",
    "print('Word2Idx Size: {}'.format(len(Word2Idx)))\n",
    "print('Idx2Word Size: {}'.format(len(Idx2Word)))"
   ]
  },
  {
   "cell_type": "markdown",
   "metadata": {},
   "source": [
    "## 6.4 Preload Word Vectors\n",
    "Since you are here, I am almost sure that you are familiar with or have atleast heard of [Word2Vec](https://radimrehurek.com/gensim/models/word2vec.html). Read about it if you don't know. \n",
    "\n",
    "Spacy provides a set of pretrained word vectors. We will make use of these to initialize our embedding layer (details in the following section). "
   ]
  },
  {
   "cell_type": "code",
   "execution_count": 7,
   "metadata": {
    "scrolled": true
   },
   "outputs": [
    {
     "name": "stdout",
     "output_type": "stream",
     "text": [
      "Shape of w2v: (10002, 300)\n",
      "Some Vectors\n",
      "[ 0.32350999  0.35554001  0.029381    0.15276    -0.14915     0.22169\n",
      "  0.007907   -0.61286002  0.24625     0.094113  ] PAD\n",
      "[  3.73400003e-02   1.01959996e-03   1.12499997e-01  -3.48410010e-01\n",
      "  -1.22720003e-01   8.06659982e-02   4.93220001e-01   7.56980032e-02\n",
      "   4.80910003e-01   2.67359996e+00] time\n"
     ]
    }
   ],
   "source": [
    "w2v = np.random.rand(len(Word2Idx), 300) # We use 300 because Spacy provides us with vectors of size 300\n",
    "\n",
    "for w_i, key in enumerate(Word2Idx):\n",
    "    token = nlp(key)\n",
    "    if token.has_vector:\n",
    "        #print(token.text, Word2Idx[key])\n",
    "        w2v[Word2Idx[key]:] = token.vector\n",
    "EMBEDDING_SIZE = w2v.shape[-1]\n",
    "print('Shape of w2v: {}'.format(w2v.shape))\n",
    "print('Some Vectors')\n",
    "print(w2v[0][:10], Idx2Word[0])\n",
    "print(w2v[80][:10], Idx2Word[80])"
   ]
  },
  {
   "cell_type": "markdown",
   "metadata": {},
   "source": [
    "## 6.5 Splitting the Data\n",
    "We are almost there. Have patience :) We need to split the data into Training and Validation set before we proceed any further. So,"
   ]
  },
  {
   "cell_type": "code",
   "execution_count": 8,
   "metadata": {},
   "outputs": [
    {
     "name": "stdout",
     "output_type": "stream",
     "text": [
      "Train Size: 301026\n",
      "Validation Size: 75256\n"
     ]
    }
   ],
   "source": [
    "train_val_split = int(len(corpus_tokens) * 0.8) # We use 80% of the data for Training and 20% for validating\n",
    "train = corpus_tokens[:train_val_split]\n",
    "validation = corpus_tokens[train_val_split:-1]\n",
    "\n",
    "print('Train Size: {}\\nValidation Size: {}'.format(len(train), len(validation)))"
   ]
  },
  {
   "cell_type": "markdown",
   "metadata": {},
   "source": [
    "## 6.6 Prepare The Training Data\n",
    "We will prepare the data by doing the following fro both train and Validation data:\n",
    "1. Convert word sequences to id sequences (which will be later used in the embedding layer)\n",
    "2. Generate n-grams from the input sequences\n",
    "3. Pad the generated n_grams to a max-length so that it can be fed to Tensorflow"
   ]
  },
  {
   "cell_type": "code",
   "execution_count": 9,
   "metadata": {
    "collapsed": true
   },
   "outputs": [],
   "source": [
    "from tflearn.data_utils import to_categorical, pad_sequences"
   ]
  },
  {
   "cell_type": "code",
   "execution_count": 10,
   "metadata": {},
   "outputs": [
    {
     "name": "stdout",
     "output_type": "stream",
     "text": [
      "Sample Train IDs\n",
      "[1005, 10001, 17, 10001, 17, 8, 10, 10001, 10001]\n",
      "Sample Validation IDs\n",
      "[137, 3630, 10, 2134, 222, 183, 99, 9, 86]\n"
     ]
    }
   ],
   "source": [
    "# A method to convert a sequence of words into a sequence of IDs given a Word2Idx dictionary\n",
    "def word2idseq(data, word2idx):\n",
    "    id_seq = []\n",
    "    for word in data:\n",
    "        if word in word2idx:\n",
    "            id_seq.append(word2idx[word])\n",
    "        else:\n",
    "            id_seq.append(word2idx['UNKNOWN'])\n",
    "    return id_seq\n",
    "\n",
    "# Thanks to http://locallyoptimal.com/blog/2013/01/20/elegant-n-gram-generation-in-python/\n",
    "# This method generated n-grams\n",
    "def find_ngrams(input_list, n):\n",
    "    return zip(*[input_list[i:] for i in range(n)])\n",
    "\n",
    "train_id_seqs = word2idseq(train, Word2Idx)\n",
    "validation_id_seqs = word2idseq(validation, Word2Idx)\n",
    "\n",
    "print('Sample Train IDs')\n",
    "print(train_id_seqs[-10:-1])\n",
    "print('Sample Validation IDs')\n",
    "print(validation_id_seqs[-10:-1])"
   ]
  },
  {
   "cell_type": "markdown",
   "metadata": {},
   "source": [
    "### 6.6.1 Generating the Targets from N-Grams\n",
    "This might look a little tricky but it is not. Here we take the sequence of ids and generate n-grams. For the purpose of training, we need sequences of terms as the training examples and the next term in the sequence as the target. Not clear right? Let us look at an example. If our sequence of words were ```['hello', 'my', 'friend']```, then we extract extract n-grams, where n=2-3 (that means we split bigrams and trigrams from the sequence). So the sequence is split into ```['hello', 'my'], ['my', 'friend'] and ['hello', 'my', 'friend']```. Well to train our network this is not enough right? We need some objective/target that we can infer about. So to get a target we split the last term of the n-grams out. In the case of our example, the corresponding targets are ```['friend', 'my', 'friend']```. To show you the bigger picture, the input sequence ```['my', 'friend', 'friend']``` is split into n-grams and then split again to pop out a target term.\n",
    "\n",
    "```python\n",
    "bigram['hello', 'my'] --> input['hello'] --> target['my']\n",
    "bigram['my', 'friend'] --> input['my'] --> target['friend']\n",
    "trigram['hello', 'my', 'friend'] --> input['hello', 'my'] --> target['friend']\n",
    "```"
   ]
  },
  {
   "cell_type": "code",
   "execution_count": 11,
   "metadata": {},
   "outputs": [],
   "source": [
    "import random\n",
    "\n",
    "def prepare_data(data, n_grams=5, batch_size=64, n_epochs=10):\n",
    "    X, Y = [], []\n",
    "    buff_size, start, end = 1000, 0, 1000\n",
    "    n_buffer = 0\n",
    "    epoch = 0\n",
    "    while epoch == n_epochs:\n",
    "        if len(X) >= batch_size:\n",
    "            X_batch = X[:batch_size]\n",
    "            Y_batch = Y[:batch_size]\n",
    "            X_batch = pad_sequences(X_batch, maxlen=n_grams, value=0)\n",
    "            Y_batch = to_categorical(Y_batch, VOCAB_SIZE)\n",
    "            yield (X_batch, Y_batch, epoch)\n",
    "            X = X[batch_size:]\n",
    "            Y = Y[batch_size:]\n",
    "            continue\n",
    "        n = random.randrange(2, n_grams)\n",
    "        if len(data) < n: continue\n",
    "        if end > len(data): end = len(data)\n",
    "        grams = find_ngrams(data[start: end], n) # generates the n-grams\n",
    "        splits = list(zip(*grams)) # split it\n",
    "        X += list(zip(*splits[:len(splits)-1])) # from the inputs\n",
    "        X = [list(x) for x in X] \n",
    "        Y += splits[-1] # form the targets\n",
    "        if start + buff_size > len(data):\n",
    "            start = 0\n",
    "            epoch += 1\n",
    "            end = start + buff_size\n",
    "        else:\n",
    "            start = start + buff_size\n",
    "            end = end + buff_size"
   ]
  },
  {
   "cell_type": "markdown",
   "metadata": {},
   "source": [
    "## 6.7 The Model\n",
    "We now define a Dynamic LSTM Model that will be our Language Model. Restart the kernel and run all cells if it does not work (some Tflearn bug). "
   ]
  },
  {
   "cell_type": "code",
   "execution_count": 12,
   "metadata": {
    "collapsed": true
   },
   "outputs": [],
   "source": [
    "# Hyperparameters\n",
    "LR = 0.0001\n",
    "HIDDEN_DIMS = 256\n",
    "BATCH_SIZE = 32\n",
    "N_EPOCHS=100\n",
    "N_GRAMS = 5\n",
    "N_VALIDATE = 10000"
   ]
  },
  {
   "cell_type": "code",
   "execution_count": 13,
   "metadata": {},
   "outputs": [],
   "source": [
    "train = prepare_data(train_id_seqs, N_GRAMS, BATCH_SIZE, N_EPOCHS)\n",
    "validate = prepare_data(validation_id_seqs, N_GRAMS, N_VALIDATE, N_EPOCHS)"
   ]
  },
  {
   "cell_type": "code",
   "execution_count": 14,
   "metadata": {
    "collapsed": true
   },
   "outputs": [],
   "source": [
    "import tensorflow as tf\n",
    "import tflearn"
   ]
  },
  {
   "cell_type": "code",
   "execution_count": 15,
   "metadata": {},
   "outputs": [
    {
     "name": "stderr",
     "output_type": "stream",
     "text": [
      "/home/dash/venvs/exercise/lib/python3.4/site-packages/tensorflow/python/ops/gradients_impl.py:91: UserWarning: Converting sparse IndexedSlices to a dense Tensor of unknown shape. This may consume a large amount of memory.\n",
      "  \"Converting sparse IndexedSlices to a dense Tensor of unknown shape. \"\n"
     ]
    },
    {
     "name": "stdout",
     "output_type": "stream",
     "text": [
      "Training epoch 0\n"
     ]
    },
    {
     "ename": "StopIteration",
     "evalue": "",
     "traceback": [
      "\u001b[0;31m---------------------------------------------------------------------------\u001b[0m",
      "\u001b[0;31mStopIteration\u001b[0m                             Traceback (most recent call last)",
      "\u001b[0;32m<ipython-input-15-9e984de82d49>\u001b[0m in \u001b[0;36m<module>\u001b[0;34m()\u001b[0m\n\u001b[1;32m     13\u001b[0m \u001b[0;32mfor\u001b[0m \u001b[0mepoch\u001b[0m \u001b[0;32min\u001b[0m \u001b[0mrange\u001b[0m\u001b[0;34m(\u001b[0m\u001b[0mN_EPOCHS\u001b[0m\u001b[0;34m)\u001b[0m\u001b[0;34m:\u001b[0m\u001b[0;34m\u001b[0m\u001b[0m\n\u001b[1;32m     14\u001b[0m     \u001b[0mprint\u001b[0m\u001b[0;34m(\u001b[0m\u001b[0;34m'Training epoch {}'\u001b[0m\u001b[0;34m.\u001b[0m\u001b[0mformat\u001b[0m\u001b[0;34m(\u001b[0m\u001b[0mepoch\u001b[0m\u001b[0;34m)\u001b[0m\u001b[0;34m)\u001b[0m\u001b[0;34m\u001b[0m\u001b[0m\n\u001b[0;32m---> 15\u001b[0;31m     \u001b[0;34m(\u001b[0m\u001b[0mX_test\u001b[0m\u001b[0;34m,\u001b[0m \u001b[0mY_test\u001b[0m\u001b[0;34m,\u001b[0m \u001b[0mval_epoch\u001b[0m\u001b[0;34m)\u001b[0m \u001b[0;34m=\u001b[0m \u001b[0mnext\u001b[0m\u001b[0;34m(\u001b[0m\u001b[0mvalidate\u001b[0m\u001b[0;34m)\u001b[0m\u001b[0;34m\u001b[0m\u001b[0m\n\u001b[0m\u001b[1;32m     16\u001b[0m     \u001b[0;32mfor\u001b[0m \u001b[0mbatch\u001b[0m \u001b[0;32min\u001b[0m \u001b[0mtrain\u001b[0m\u001b[0;34m:\u001b[0m\u001b[0;34m\u001b[0m\u001b[0m\n\u001b[1;32m     17\u001b[0m         model.fit(batch[0], batch[1], validation_set=(X_test, Y_test),\n",
      "\u001b[0;31mStopIteration\u001b[0m: "
     ],
     "output_type": "error"
    }
   ],
   "source": [
    "# Build the model\n",
    "embedding_matrix = tf.constant(w2v, dtype=tf.float32)\n",
    "net = tflearn.input_data([None, N_GRAMS], dtype=tf.int32, name='input')\n",
    "net = tflearn.embedding(net, input_dim=VOCAB_SIZE, output_dim=EMBEDDING_SIZE,\n",
    "                        weights_init=embedding_matrix, trainable=True)\n",
    "net = tflearn.lstm(net, HIDDEN_DIMS, dropout=0.8, dynamic=True)\n",
    "net = tflearn.fully_connected(net, VOCAB_SIZE, activation='softmax')\n",
    "net = tflearn.regression(net, optimizer='adam', learning_rate=LR,\n",
    "                         loss='categorical_crossentropy', name='target')\n",
    "model = tflearn.DNN(net, checkpoint_path=\"./chkpnts\", best_checkpoint_path=\"./best_chkpnts\",\n",
    "                    tensorboard_dir='./chkpnts', best_val_accuracy=0.70)\n",
    "\n",
    "for epoch in range(N_EPOCHS):\n",
    "    print('Training epoch {}'.format(epoch))\n",
    "    (X_test, Y_test, val_epoch) = next(validate)\n",
    "    for batch in train:\n",
    "        model.fit(batch[0], batch[1], validation_set=(X_test, Y_test),\n",
    "                  show_metric=True, n_epoch=1)"
   ]
  },
  {
   "cell_type": "markdown",
   "metadata": {
    "collapsed": true
   },
   "source": [
    "# 7. Inference\n",
    "The story does not get over after you train the model. We need to understand how to make inference using this trained model. Well honestly, this model is not even close to trained. We used just one article from Wikipedia to train this Language Model so we cannot expect it to be good. The idea was to realise the steps required actually build a Language Model from scratch. Now let us look at how to make an inference from the model that we just trained.\n",
    "\n",
    "## 7.1 Log Probability of a Sequence \n",
    "Given a new sequence of terms, we would like to know the probability of the occurance of this sequence in the Language. We make use of our trained model (which we assume to be a represenattion of the Langauge) and calculate the n-gram probabilities and aggregate them to find a final probability score."
   ]
  },
  {
   "cell_type": "code",
   "execution_count": null,
   "metadata": {
    "collapsed": true
   },
   "outputs": [],
   "source": [
    "def get_sequence_prob(in_string, n, model):\n",
    "    in_tokens, in_lengths = preprocess_corpus(in_string)\n",
    "    in_ids = word2idseq(in_tokens, Word2Idx)\n",
    "    X, Y_, Y = prepare_data(in_ids, n)\n",
    "    preds = model.predict(X)\n",
    "    log_prob = 0.0\n",
    "    for y_i, y in enumerate(Y):\n",
    "        log_prob += np.log(preds[y_i, y])\n",
    "\n",
    "    log_prob = log_prob/len(Y)\n",
    "    return log_prob\n",
    "\n",
    "in_strings = ['hello I am science', 'blah blah blah', 'deep learning', 'answer',\n",
    "              'Boltzman', 'from the previous layer as input', 'ahcblheb eDHLHW SLcA']\n",
    "for in_string in in_strings:\n",
    "    log_prob = get_sequence_prob(in_string, 5, model)\n",
    "    print(log_prob)"
   ]
  },
  {
   "cell_type": "markdown",
   "metadata": {},
   "source": [
    "To get the probability of the sequence, we take the n-grams of the sequence and we infer the probability of the next term to occur, take it's log and sum it with the log probabilities of all the other n-grams. The final score is the average over all. There can be other ways to look at it too. You can notmalize by n too, where n is the number of grans you considered. "
   ]
  },
  {
   "cell_type": "markdown",
   "metadata": {},
   "source": [
    "# 7.2 Generating a Sequence\n",
    "Since we trained this Language model to predict the next term given the previous 'n' terms, we can sample sequences out of this model too. We start with a random term and feed it to the Model. The Model predicts the next term and then we concat it with our previous term and feed it again to the Model. In this way we can generate arbitarily long sequences from the Model. Let us see how this naive model generates sequences,"
   ]
  },
  {
   "cell_type": "code",
   "execution_count": null,
   "metadata": {
    "collapsed": true
   },
   "outputs": [],
   "source": [
    "def generate_sequences(term, word2idx, idx2word, seq_len, n_grams, model):\n",
    "    if term not in word2idx:\n",
    "        idseq = [[word2idx['UNKNOWN']]]\n",
    "    else:\n",
    "        idseq = [[word2idx[term]]]\n",
    "    for i in range(seq_len-1):\n",
    "        #print(idseq)\n",
    "        padded_idseq = pad_sequences(idseq, maxlen=n_grams, value=0)\n",
    "        next_label = model.predict_label(padded_idseq)\n",
    "        print(next_label)\n",
    "        idseq[0].append(next_label[0][0])\n",
    "    generated_str = []\n",
    "    for id in idseq[0]:\n",
    "        generated_str.append(idx2word[id])\n",
    "    return ' '.join(generated_str)\n",
    "    \n",
    "term = 'SEENCE_BEGIN'\n",
    "seq = generate_sequences(term, Word2Idx, Idx2Word, 10, 5, model)\n",
    "print(seq)"
   ]
  },
  {
   "cell_type": "code",
   "execution_count": null,
   "metadata": {
    "collapsed": true
   },
   "outputs": [],
   "source": [
    ""
   ]
  },
  {
   "cell_type": "code",
   "execution_count": null,
   "metadata": {
    "collapsed": true
   },
   "outputs": [],
   "source": [
    ""
   ]
  }
 ],
 "metadata": {
  "kernelspec": {
   "display_name": "Python 3",
   "language": "python",
   "name": "python3"
  },
  "language_info": {
   "codemirror_mode": {
    "name": "ipython",
    "version": 3.0
   },
   "file_extension": ".py",
   "mimetype": "text/x-python",
   "name": "python",
   "nbconvert_exporter": "python",
   "pygments_lexer": "ipython3",
   "version": "3.4.3"
  }
 },
 "nbformat": 4,
 "nbformat_minor": 0
}